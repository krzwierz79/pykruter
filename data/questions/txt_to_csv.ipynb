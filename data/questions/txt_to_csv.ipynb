{
 "cells": [
  {
   "cell_type": "code",
   "execution_count": null,
   "metadata": {},
   "outputs": [],
   "source": [
    "import pandas as pd\n",
    " \n",
    " \n",
    "# dataframe from text with delimiter\n",
    "account = pd.read_csv(\"projectpro.txt\",\n",
    "                      delimiter = '/')\n",
    " \n",
    "# dataframe to csv\n",
    "account.to_csv('projectpro.csv',\n",
    "               index = None)"
   ]
  }
 ],
 "metadata": {
  "language_info": {
   "name": "python"
  },
  "orig_nbformat": 4
 },
 "nbformat": 4,
 "nbformat_minor": 2
}
